{
 "cells": [
  {
   "cell_type": "code",
   "execution_count": 1,
   "id": "1e2384e3",
   "metadata": {},
   "outputs": [],
   "source": [
    "import numpy as np\n",
    "import matplotlib.pyplot as plt\n",
    "import glob\n",
    "import cv2\n",
    "from sklearn import metrics\n",
    "from sklearn.metrics import confusion_matrix\n",
    "from sklearn.metrics import accuracy_score\n",
    "from sklearn.preprocessing import StandardScaler\n",
    "import seaborn as sns"
   ]
  },
  {
   "cell_type": "code",
   "execution_count": 2,
   "id": "c258e402",
   "metadata": {},
   "outputs": [],
   "source": [
    "import os\n",
    "import random\n",
    "\n",
    "folder_path = '/Users/mouam/OneDrive/Bureau/data'\n",
    "filenames = os.listdir(folder_path)\n",
    "random.shuffle(filenames) # shuffle the files"
   ]
  },
  {
   "cell_type": "code",
   "execution_count": 52,
   "id": "09690079",
   "metadata": {},
   "outputs": [],
   "source": [
    "# put in image list the shuffled card \n",
    "image_list = []\n",
    "for filename in filenames:\n",
    "    filepath = os.path.join(folder_path, filename)\n",
    "    image = cv2.imread(filepath)\n",
    "    image_list.append(image)"
   ]
  },
  {
   "cell_type": "code",
   "execution_count": 53,
   "id": "3e713278",
   "metadata": {},
   "outputs": [
    {
     "data": {
      "image/png": "[encoded data removed]",
      "text/plain": [
       "<Figure size 432x288 with 6 Axes>"
      ]
     },
     "metadata": {
      "needs_background": "light"
     },
     "output_type": "display_data"
    }
   ],
   "source": [
    "fig, ax = plt.subplots(1, 6) # Display 3 images\n",
    "for i in range(6):\n",
    "    ax[i].imshow(image_list[i])   \n",
    "plt.show()"
   ]
  },
  {
   "cell_type": "markdown",
   "id": "ec87a9bf",
   "metadata": {},
   "source": [
    "## DATA PROCESSING"
   ]
  },
  {
   "cell_type": "code",
   "execution_count": 5,
   "id": "1bb2af75",
   "metadata": {},
   "outputs": [],
   "source": [
    "# Get labels\n",
    "def getlabel(name):\n",
    "    if name == 'Ace':\n",
    "        im_label = '1'\n",
    "    elif name == '2':\n",
    "        im_label = '2'\n",
    "    elif name == '3':\n",
    "        im_label = '3'\n",
    "    elif name == '4':\n",
    "        im_label = '4'\n",
    "    elif name == '5':\n",
    "        im_label = '5'\n",
    "    elif name == '6':\n",
    "        im_label = '6'\n",
    "    elif name == '7':\n",
    "        im_label = '7'\n",
    "    elif name == '8':\n",
    "        im_label = '8'\n",
    "    elif name == '9':\n",
    "        im_label = '9'\n",
    "    elif name == '10':\n",
    "        im_label = '10'\n",
    "    elif name == 'Jack':\n",
    "        im_label = '11'\n",
    "    elif name == 'Queen':\n",
    "        im_label = '12'\n",
    "    elif name == 'King':\n",
    "        im_label = '13'\n",
    "    return im_label"
   ]
  },
  {
   "cell_type": "code",
   "execution_count": 6,
   "id": "26bb066e",
   "metadata": {},
   "outputs": [],
   "source": [
    "label = []\n",
    "for index, image in enumerate(image_list):\n",
    "    # Get the filename for the current image using the index\n",
    "    filename = filenames[index]\n",
    "    name = filename.split(\"_\")\n",
    "    label.append(getlabel(name[0]))"
   ]
  },
  {
   "cell_type": "code",
   "execution_count": 10,
   "id": "da94b3a7",
   "metadata": {},
   "outputs": [],
   "source": [
    "image_data3 = []\n",
    "for image in image_list:\n",
    "    gray = cv2.cvtColor(image, cv2.COLOR_BGR2GRAY)\n",
    "    im_data = gray.flatten()\n",
    "    \n",
    "    if np.shape(im_data)[0] < 4800: \n",
    "        im_data = np.append(im_data, np.zeros(4800 - np.shape(im_data)[0]))\n",
    "   \n",
    "    #print(np.shape(im_data))    \n",
    "    image_data3.append(im_data)"
   ]
  },
  {
   "cell_type": "code",
   "execution_count": 11,
   "id": "4b225edd",
   "metadata": {},
   "outputs": [],
   "source": [
    "from sklearn.model_selection import train_test_split\n",
    "    \n",
    "X = image_data3\n",
    "y = label\n",
    "\n",
    "X_train, X_test, y_train, y_test = train_test_split(X, y, test_size=0.2, random_state=42)\n",
    "\n",
    "# Mise en forme des donnees\n",
    "scaler = StandardScaler()\n",
    "\n",
    "# Caclul moyenne et ecart-type\n",
    "scaler.fit(X_train)\n",
    "\n",
    "# Normalisation des donnees :\n",
    "X_scaled_train = scaler.transform(X_train)\n",
    "X_scaled_test = scaler.transform(X_test)"
   ]
  },
  {
   "cell_type": "code",
   "execution_count": 12,
   "id": "c347d10e",
   "metadata": {},
   "outputs": [
    {
     "name": "stdout",
     "output_type": "stream",
     "text": [
      "X_train : (8320, 4800)\n",
      "X_train resized and normalized : (8320, 4800)\n"
     ]
    }
   ],
   "source": [
    "print(\"X_train :\",np.shape(X_train))\n",
    "print(\"X_train resized and normalized :\",np.shape(X_scaled_train))"
   ]
  },
  {
   "cell_type": "markdown",
   "id": "55f834bb",
   "metadata": {},
   "source": [
    "## KNN MODEL "
   ]
  },
  {
   "cell_type": "code",
   "execution_count": 13,
   "id": "e9c83b67",
   "metadata": {},
   "outputs": [
    {
     "name": "stdout",
     "output_type": "stream",
     "text": [
      "KNN Accuracy on testing set : 0.38990384615384616\n",
      "\n",
      "Confusion Matrix:\n",
      "[[90  0  0  0  0 23 33  7  6  5  1  2  4]\n",
      " [ 0 46 17 21 25  4  1  1  2  5 11  9 23]\n",
      " [ 1  1 66 43 43  0  0  0  0  0  0  1  3]\n",
      " [ 2  7 34 66 30  0  0  0  0  1  0  1  4]\n",
      " [ 3  5 41 31 82  0  0  0  0  0  0  0  6]\n",
      " [13  0  0  0  0 89 30  8  5  2  0  0  2]\n",
      " [23  0  0  0  0 41 82 10  7  1  1  0  0]\n",
      " [10  0  0  0  0 23 23 59 32 13  4  0  1]\n",
      " [18  0  0  0  0  9 15 42 48 18  9  3  2]\n",
      " [ 5  0  0  0  1  6 20 24 25 55 22  9  5]\n",
      " [12  8  1  0  9  3  5  6 15 40 40 20  8]\n",
      " [13 10  3  2  3  1  1  8 14 24 24 52  1]\n",
      " [ 7 18 10 11  9  1  2  3  5  7  7 19 36]]\n"
     ]
    }
   ],
   "source": [
    "from sklearn.neighbors import KNeighborsClassifier\n",
    "\n",
    "clf = KNeighborsClassifier(n_neighbors = 1, p = 1)\n",
    "clf.fit(X_scaled_train, y_train)\n",
    "y_pred = clf.predict(X_scaled_test)\n",
    "\n",
    "print (\"KNN Accuracy on testing set :\", accuracy_score(y_test, y_pred))\n",
    "print (\"\\nConfusion Matrix:\")\n",
    "print (metrics.confusion_matrix(y_test, y_pred))"
   ]
  },
  {
   "cell_type": "markdown",
   "id": "88e996ef",
   "metadata": {},
   "source": [
    "## RANDOM FOREST MODEL"
   ]
  },
  {
   "cell_type": "code",
   "execution_count": 14,
   "id": "6f4cb4d4",
   "metadata": {},
   "outputs": [
    {
     "name": "stdout",
     "output_type": "stream",
     "text": [
      "SVC Accuracy on testing set : 0.5403846153846154\n",
      "\n",
      "Confusion Matrix:\n",
      "[[ 62   0   0   1   2  44  16  10  12  12   3   7   2]\n",
      " [  1 120   3   3   1   0   0   0   1   1   2   9  24]\n",
      " [  0   2  88  38  28   0   0   0   0   0   0   1   1]\n",
      " [  0   1  37  75  30   0   0   0   0   0   0   0   2]\n",
      " [  0   1  26  24 114   0   0   0   0   0   0   0   3]\n",
      " [  0   0   0   0   0 116   3  18   1   9   2   0   0]\n",
      " [  6   0   0   0   0  19  83  11  21  21   4   0   0]\n",
      " [  1   0   0   0   0  16   5 112  11  15   5   0   0]\n",
      " [  3   0   0   0   0   1  26  22  70  29   3   8   2]\n",
      " [  0   1   0   0   0   1   5  15  28  78  20  20   4]\n",
      " [  1   4   0   0   0   1   0   3   6  35  39  59  19]\n",
      " [  0  10   0   0   2   0   0   0   1  10  14  93  26]\n",
      " [  1  20   0   1   3   0   0   0   0   8   4  24  74]]\n"
     ]
    }
   ],
   "source": [
    "from sklearn.ensemble import RandomForestClassifier\n",
    "\n",
    "RF = RandomForestClassifier(criterion='entropy', n_estimators=300, random_state=1)\n",
    "RF.fit(X_scaled_train, y_train)\n",
    "y_pred = RF.predict(X_scaled_test)\n",
    "\n",
    "print (\"SVC Accuracy on testing set :\", accuracy_score(y_test, y_pred))\n",
    "print (\"\\nConfusion Matrix:\")\n",
    "print (metrics.confusion_matrix(y_test, y_pred))"
   ]
  },
  {
   "cell_type": "markdown",
   "id": "b8dc41af",
   "metadata": {},
   "source": [
    "## SVC MODEL"
   ]
  },
  {
   "cell_type": "code",
   "execution_count": 15,
   "id": "45ae7d4b",
   "metadata": {},
   "outputs": [
    {
     "name": "stdout",
     "output_type": "stream",
     "text": [
      "SVC Accuracy on testing set : 0.5408653846153846\n",
      "\n",
      "Confusion Matrix:\n",
      "[[ 94   0   1   1   5  25  36   3   0   1   2   3   0]\n",
      " [  0  89   1   1   2   0   0   0   0   8  12  13  39]\n",
      " [  0   1  62  54  37   0   0   0   0   0   0   1   3]\n",
      " [  0   4  40  77  21   0   0   0   0   0   0   0   3]\n",
      " [  0   4  18  41  93   0   0   0   0   0   1   2   9]\n",
      " [  5   0   0   0   0 119  10  14   0   1   0   0   0]\n",
      " [ 43   0   0   0   0   7  92   3   8   8   4   0   0]\n",
      " [  0   0   0   0   0  21   1 120  17   4   2   0   0]\n",
      " [  1   0   0   0   0   2  17  12  88  26  18   0   0]\n",
      " [  0   0   0   0   0   0  10   1  33  88  33   7   0]\n",
      " [  1   6   0   0   1   0   6   1   4  40  62  34  12]\n",
      " [  0  19   0   0   0   0   0   0   1   6  37  74  19]\n",
      " [  0  25   2   4   1   0   0   0   0   4   8  24  67]]\n"
     ]
    }
   ],
   "source": [
    "from sklearn.svm import SVC\n",
    "\n",
    "svc_1 = SVC(kernel='rbf', decision_function_shape='ovo')\n",
    "svc_1.fit(X_scaled_train, y_train)\n",
    "y_pred = svc_1.predict(X_scaled_test)\n",
    "\n",
    "print (\"SVC Accuracy on testing set :\", accuracy_score(y_test, y_pred))\n",
    "print (\"\\nConfusion Matrix:\")\n",
    "print (metrics.confusion_matrix(y_test, y_pred))"
   ]
  },
  {
   "cell_type": "markdown",
   "id": "cfcc7814",
   "metadata": {},
   "source": [
    "## MLP MODEL"
   ]
  },
  {
   "cell_type": "code",
   "execution_count": 16,
   "id": "23241e5e",
   "metadata": {},
   "outputs": [
    {
     "name": "stdout",
     "output_type": "stream",
     "text": [
      "MLP Accuracy on testing set : 0.6399038461538461\n",
      "\n",
      "Confusion Matrix:\n",
      "[[136   1   1   0   0   8  20   1   0   0   0   3   1]\n",
      " [  0  95   3  12  13   0   0   0   0   0  13  10  19]\n",
      " [  0   3  98  33  20   0   0   0   0   0   0   2   2]\n",
      " [  0   5  42  75  18   0   0   0   0   0   0   0   5]\n",
      " [  0  17  11  19 102   0   0   0   0   0   0   5  14]\n",
      " [  2   0   0   0   0 136   2   7   2   0   0   0   0]\n",
      " [ 20   1   0   0   0   3 128   1   7   2   3   0   0]\n",
      " [  0   0   0   0   0  14   1 143   7   0   0   0   0]\n",
      " [  0   0   0   0   0   2  14   1 108  29  10   0   0]\n",
      " [  0   0   0   0   0   0   6   0  27 110  25   4   0]\n",
      " [  1   3   0   0   2   0   3   0   2  34  73  38  11]\n",
      " [  0  18   0   1   6   0   0   0   0   2  34  70  25]\n",
      " [  2  16   3   7  19   0   0   0   0   0  13  18  57]]\n"
     ]
    }
   ],
   "source": [
    "from sklearn.neural_network import MLPClassifier\n",
    "\n",
    "mlp = MLPClassifier(hidden_layer_sizes=(150,100,50),\n",
    "                        max_iter = 150, activation = 'relu',\n",
    "                        solver = 'adam', alpha = 0.05,\n",
    "                        learning_rate = 'adaptive')\n",
    "\n",
    "mlp.fit(X_scaled_train, y_train)\n",
    "y_pred = mlp.predict(X_scaled_test)\n",
    "\n",
    "print (\"MLP Accuracy on testing set :\", accuracy_score(y_test, y_pred))\n",
    "print (\"\\nConfusion Matrix:\")\n",
    "print (metrics.confusion_matrix(y_test, y_pred))"
   ]
  },
  {
   "cell_type": "markdown",
   "id": "98b81a6f",
   "metadata": {},
   "source": [
    "## MLP Hyperparameters Optimisations"
   ]
  },
  {
   "cell_type": "markdown",
   "id": "8d66279d",
   "metadata": {},
   "source": [
    "**Do not run again** : we use GridSearchCV to search for the best paramaters in MLP model, about 5 hrs to run."
   ]
  },
  {
   "cell_type": "code",
   "execution_count": null,
   "id": "0e5dc4e1",
   "metadata": {},
   "outputs": [],
   "source": [
    "from sklearn.model_selection import GridSearchCV\n",
    "\n",
    "param_grid = {\n",
    "    'hidden_layer_sizes': [(150,100,50), (120,80,40), (100,50,30)],\n",
    "    'max_iter': [50, 100, 150],\n",
    "    'activation': ['tanh', 'relu'],\n",
    "    'solver': ['sgd', 'adam'],\n",
    "    'alpha': [0.0001, 0.05],\n",
    "    'learning_rate': ['constant','adaptive'],\n",
    "}\n",
    "\n",
    "grid = GridSearchCV(mlp, param_grid, n_jobs= -1, cv=5)\n",
    "grid.fit(X_scaled_train, y_train)\n",
    "\n",
    "print(grid.best_params_) "
   ]
  },
  {
   "cell_type": "code",
   "execution_count": 96,
   "id": "c1500a9f",
   "metadata": {},
   "outputs": [
    {
     "name": "stdout",
     "output_type": "stream",
     "text": [
      "{'activation': 'relu', 'alpha': 0.05, 'hidden_layer_sizes': (150, 100, 50), 'learning_rate': 'adaptive', 'max_iter': 150, 'solver': 'adam'}\n"
     ]
    }
   ],
   "source": [
    "print(grid.best_params_) "
   ]
  },
  {
   "cell_type": "markdown",
   "id": "39ede05f",
   "metadata": {},
   "source": [
    "## KNN Hyperparameters Optimisations"
   ]
  },
  {
   "cell_type": "code",
   "execution_count": 17,
   "id": "792e0e7e",
   "metadata": {},
   "outputs": [
    {
     "data": {
      "image/png": "[encoded data removed]",
      "text/plain": [
       "<Figure size 432x288 with 1 Axes>"
      ]
     },
     "metadata": {
      "needs_background": "light"
     },
     "output_type": "display_data"
    }
   ],
   "source": [
    "from sklearn.metrics import confusion_matrix\n",
    "\n",
    "# Euclide\n",
    "def varkppv_euc(n):\n",
    "    classifier = KNeighborsClassifier(n_neighbors = n, p = 2)\n",
    "    classifier.fit(X_scaled_train,y_train)\n",
    "    y_pred = classifier.predict(X_scaled_test)\n",
    "    C = confusion_matrix(y_test,y_pred)\n",
    "    return np.sum(np.diag(C))/np.sum(C)*100\n",
    "\n",
    "# Manhattan \n",
    "def varkppv_man(n):\n",
    "    classifier = KNeighborsClassifier(n_neighbors = n, p = 1)\n",
    "    classifier.fit(X_scaled_train, y_train)\n",
    "    y_pred = classifier.predict(X_scaled_test)\n",
    "    C = confusion_matrix(y_test, y_pred)\n",
    "    return np.sum(np.diag(C))/np.sum(C)*100\n",
    "\n",
    "# Affichage des courbes de Variations KPPV en fctn des différentes distances euclidienne et manhattan  \n",
    "kppv_euclide = []\n",
    "kppv_man = []\n",
    "for i in range(1,6):\n",
    "    kppv_euclide.append(varkppv_euc(i))\n",
    "    kppv_man.append(varkppv_man(i))\n",
    "    \n",
    "plt.plot(kppv_man,'b', label = \"kppv_man\") \n",
    "plt.plot(kppv_euclide,'r', label = \"kppv_euclide\") \n",
    "plt.title(\"Variation des KPPV en fctn des différentes distances euclidienne et manhattan\")\n",
    "plt.xlabel(\"K-voisins (K)\")\n",
    "plt.ylabel(\"Taux de reconnaissances (%)\")\n",
    "plt.legend()\n",
    "plt.show()"
   ]
  },
  {
   "cell_type": "markdown",
   "id": "92311e1c",
   "metadata": {},
   "source": [
    "## SVC + SIFT Optimisations"
   ]
  },
  {
   "cell_type": "markdown",
   "id": "d22bc10d",
   "metadata": {},
   "source": [
    "Optimisation of the SVC Model with Sift Feature extractions.\n",
    "we will reduce the dataset to 1000 images because the shape of the feature extraction is too big."
   ]
  },
  {
   "cell_type": "code",
   "execution_count": 64,
   "id": "e4027c71",
   "metadata": {},
   "outputs": [],
   "source": [
    "from sklearn.metrics import accuracy_score\n",
    "import seaborn as sns\n",
    "\n",
    "# Training and evaluating\n",
    "def train_and_evaluate(clf, X_train, X_test, y_train, y_test):\n",
    "\n",
    "    clf.fit(X_train, y_train)\n",
    "    y_pred = clf.predict(X_test)\n",
    "    \n",
    "    print (\"Accuracy on testing set:\")\n",
    "    print (accuracy_score(y_test, y_pred))\n",
    "\n",
    "    print (\"\\nClassification Report:\")\n",
    "    print (metrics.classification_report(y_test, y_pred))\n",
    "    \n",
    "    print (\"Confusion Matrix:\")\n",
    "    C = np.array(metrics.confusion_matrix(y_test, y_pred))\n",
    "    sns.heatmap(C, annot=True, cmap='Blues')"
   ]
  },
  {
   "cell_type": "code",
   "execution_count": 67,
   "id": "0f3e71e6",
   "metadata": {},
   "outputs": [],
   "source": [
    "# Get features based on SIFT features\n",
    "def getSIFTfeatures(input_img):\n",
    "    # Convert the image to grayscale\n",
    "    gray = cv2.cvtColor(input_img, cv2.COLOR_BGR2GRAY)\n",
    "\n",
    "    # Create a sift object\n",
    "    sift = cv2.SIFT_create()\n",
    "\n",
    "    # Create keypoints for every pixel in the image\n",
    "    height, width = gray.shape\n",
    "    keypoints = [cv2.KeyPoint(x, y, 10) for y in range(height) for x in range(width)]\n",
    "    \n",
    "    # Convert keypoints to a list of points\n",
    "    points = cv2.KeyPoint_convert(keypoints)\n",
    "\n",
    "    # Compute descriptor vectors for the keypoints\n",
    "    _, descriptors = sift.compute(gray, keypoints)\n",
    "\n",
    "    return points, descriptors"
   ]
  },
  {
   "cell_type": "code",
   "execution_count": 68,
   "id": "35a3eaf8",
   "metadata": {},
   "outputs": [
    {
     "name": "stdout",
     "output_type": "stream",
     "text": [
      "shape of image_data : (2000, 614400)\n"
     ]
    }
   ],
   "source": [
    "image_data = []\n",
    "for image in image_list[:2000]:\n",
    "    im_feature = getSIFTfeatures(image)[1]\n",
    "    im_data = im_feature.flatten()\n",
    "    \n",
    "    if np.shape(im_data)[0] < 614400: \n",
    "        im_data = np.append(im_data, np.zeros(614400 - np.shape(im_data)[0]))\n",
    "    \n",
    "    image_data.append(im_data)\n",
    "    \n",
    "print(\"shape of image_data :\",np.shape(image_data))"
   ]
  },
  {
   "cell_type": "code",
   "execution_count": 69,
   "id": "892ae723",
   "metadata": {},
   "outputs": [
    {
     "name": "stdout",
     "output_type": "stream",
     "text": [
      "X_train1 : (1600, 614400)\n"
     ]
    }
   ],
   "source": [
    "from sklearn.model_selection import train_test_split\n",
    "\n",
    "X1 = image_data[:2000]\n",
    "y1 = label[:2000]\n",
    "\n",
    "X_train1, X_test1, y_train1, y_test1 = train_test_split(X1, y1, test_size=0.2, random_state=42)\n",
    "print(\"X_train1 :\",np.shape(X_train1))"
   ]
  },
  {
   "cell_type": "code",
   "execution_count": 24,
   "id": "1fc9eb01",
   "metadata": {},
   "outputs": [],
   "source": [
    "from sklearn.svm import SVC\n",
    "\n",
    "# different machine learning algrithom\n",
    "svc_2 = SVC(kernel='linear', decision_function_shape='ovo')"
   ]
  },
  {
   "cell_type": "code",
   "execution_count": 25,
   "id": "3372b764",
   "metadata": {},
   "outputs": [
    {
     "name": "stdout",
     "output_type": "stream",
     "text": [
      "Accuracy on testing set:\n",
      "0.74\n",
      "\n",
      "Classification Report:\n",
      "              precision    recall  f1-score   support\n",
      "\n",
      "           1       0.90      0.73      0.81        26\n",
      "          10       0.65      0.89      0.75        35\n",
      "          11       0.81      0.63      0.71        35\n",
      "          12       0.90      0.95      0.92        37\n",
      "          13       0.66      0.81      0.72        26\n",
      "           2       0.96      0.92      0.94        26\n",
      "           3       0.90      0.96      0.93        27\n",
      "           4       0.92      0.92      0.92        24\n",
      "           5       0.71      0.65      0.68        37\n",
      "           6       0.58      0.57      0.58        37\n",
      "           7       0.50      0.50      0.50        32\n",
      "           8       0.59      0.63      0.61        27\n",
      "           9       0.75      0.58      0.65        31\n",
      "\n",
      "    accuracy                           0.74       400\n",
      "   macro avg       0.76      0.75      0.75       400\n",
      "weighted avg       0.75      0.74      0.74       400\n",
      "\n",
      "Confusion Matrix:\n"
     ]
    },
    {
     "data": {
      "image/png": "[encoded data removed]",
      "text/plain": [
       "<Figure size 432x288 with 2 Axes>"
      ]
     },
     "metadata": {
      "needs_background": "light"
     },
     "output_type": "display_data"
    }
   ],
   "source": [
    "train_and_evaluate(svc_2, X_train1, X_test1, y_train1, y_test1)"
   ]
  }
 ],
 "metadata": {
  "kernelspec": {
   "display_name": "Python 3 (ipykernel)",
   "language": "python",
   "name": "python3"
  },
  "language_info": {
   "codemirror_mode": {
    "name": "ipython",
    "version": 3
   },
   "file_extension": ".py",
   "mimetype": "text/x-python",
   "name": "python",
   "nbconvert_exporter": "python",
   "pygments_lexer": "ipython3",
   "version": "3.9.7"
  }
 },
 "nbformat": 4,
 "nbformat_minor": 5
}
